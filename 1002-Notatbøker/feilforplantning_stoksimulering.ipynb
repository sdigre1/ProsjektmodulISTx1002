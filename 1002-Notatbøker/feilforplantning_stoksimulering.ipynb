{
 "cells": [
  {
   "cell_type": "markdown",
   "id": "54e2dfde-a177-444e-9794-eb52475d1341",
   "metadata": {},
   "source": [
    "# Usikkerhet og støy i målinger\n",
    "## Hvordan forplanter måleusikkerhet seg fra inngangsvariabler til utgangsvariabel?"
   ]
  },
  {
   "cell_type": "markdown",
   "id": "129e1b8a-b5b2-4e93-ab0f-b9ef84e657d6",
   "metadata": {},
   "source": [
    "### Læringsmål\n",
    "I denne notaboken gjennomgås konseptet feilforplantning ved\n",
    "1. Lineærapproksimasjon av målefunksjonen, og \n",
    "2. Stokastisk simulering av måleforsøket"
   ]
  },
  {
   "cell_type": "markdown",
   "id": "338932e0-e5f1-432d-97f7-048e88bd67b9",
   "metadata": {},
   "source": [
    "## Målefunksjoner, feilforplantning og kombinert standard usikkerhet\n",
    "\n",
    "### Del 1: Introduksjon til feilforplantning\n",
    "\n",
    "Ofte vil det vi ønsker å tallfeste kun måles implisitt. For eksempel kan vi være interessert i volumet av en kule, som er gitt ved \n",
    "$$ v = \\frac{4}{3}\\pi \\left(\\frac{d}{2}\\right)^3,$$\n",
    "der $d$ er kulas diameter. \n",
    "\n",
    "Vi har et digitalt skyvelære med en nøyaktighet på 0.03 mm. Av erfaring vet vi at en større kilde til usikkerhet er den menneskelige bruken av skyvelære, og vi bruker en antatt standard usikkerhet (standardavvik) i målinger av diameteren (stokastisk variabel $X_d$) på 0.1 mm. \n",
    "\n",
    "Når vi måler (estimerer) diameteren $d$ med usikkerhet, hvordan *forplanter* denne usikkerheten seg til (den implisitte) målingen av volum $v$?\n",
    "\n",
    "**Terminologi:** Vi kaller diameteren $d$ for en *inngangsvariabel* i *målefunksjonen* $f(d) = \\frac{4}{3}\\pi (\\frac{d}{2})^3$ med *utgangsvariabel* $v$ (volum). \n",
    "\n",
    "For å svare på spørsmålet om forplantning av usikkerhet, også kalt *feilforplantning*, skal vi ty til teknikker fra statistikk og matematikk. Vi lar $X_d$ være en stokastisk variabel som representerer måling av diameter. Den sanne diameteren er $d$, og vi antar at målingene gjøres på en måte slik at $E(X_d) = d$ og $Var(X_d) = \\sigma_d^2 = 0.1^2$. Måling av volum, representert ved en stokastisk variabel $V$, kan dermed uttrykkes via målefunksjonen $X_v = f(X_d) = \\frac{4}{3}\\pi (\\frac{X_d}{2})^3$.\n",
    "\n",
    "Fra fellesmodulen i ISTx100y vet vi at vi kan regne ut variansen $Var(Y)$ dersom $Y$ er en *lineærtransformasjon* $a + bX$ av en stokastisk variabel $X$ med kjent varians $Var(X) = \\sigma_X^2$. Variansen til $Y$ finner vi da fra regneregelen $Var(a + bX) = b^2 Var(X)$. Når det gjelder ikke-linære målefunksjoner har vi ingen fine regneregler som dette. Men, ved bruk av en første-ordens Taylor-utvikling kan vi komme frem til en lineær-approksimasjon av målefunksjonen, som vi deretter kan regne varians på. \n",
    "\n",
    "Vi ser på funksjonen $f(X_d) = \\frac{4}{3}\\pi (\\frac{X_d}{2})^3$ og gjør en lineærapproksimasjon rundt punktet $d$. Vi velger oss $d$ fordi det er den sanne diameteren (og forventningsverdien til $X_d$). Lineærapproksimasjonen blir dermed\n",
    "\n",
    "$$ X_v = f(X_d) \\approx f(d) + f'(d)\\cdot(X_d-d). $$\n",
    "\n",
    "Dermed kan vi approksimere variansen til $X_v$ ved\n",
    "\n",
    "$$ Var(X_v) \\approx Var(f(d)) + Var\\left(f'(d)\\cdot(X_d-d)\\right) = (f'(d))^2 Var(X_d).$$\n",
    "\n",
    "Fra dette følger et approksimert uttrykk for standard usikkerhet i måling av volum:\n",
    "\n",
    "$$ SD(X_v) \\approx \\sqrt{(f'(d))^2 Var(X_d)}  = \\sqrt{(f'(d))^2 \\sigma_d^2}.$$\n",
    "\n",
    "Den deriverte av $f(d)$ med hensyn på $d$ er $f'(d) = \\frac{1}{2}\\pi d^2$. \n",
    "\n",
    "Vi kjenner ikke den sanne diameteren $d$, og derfor ikke det sanne volumet $v$. Vi kjenner variansen til målinger med skyvelære ($\\sigma_d^2$) men vi kan ikke tallfeste den approksimerte standard usikkerheten for utregning av volum uten et tall for $d$. Her kommer målingen av diameter med skyvelære inn.\n",
    "\n",
    "Vi gjør en måling $x_d = 3.8$mm, og får en måling $x_v$ av volum på $x_v = f(x_d) = \\frac{4}{3}\\pi (\\frac{x_d}{2})^3 = 28.7 \\text{mm}^3$. Standard usikkerhet approksimeres ved $SD(X_v) \\approx \\sqrt( \\frac{1}{2}\\pi x_d^2 \\sigma_d^2) = 0.5 \\text{mm}^3$ (avrundet til én desimal).\n"
   ]
  },
  {
   "cell_type": "markdown",
   "id": "6623aa16-7325-4dd4-a15f-52822c4f79b3",
   "metadata": {},
   "source": [
    "### Del 2: Flere inngangsvariabler og kombinert standard usikkerhet\n",
    "\n",
    "En kule triller med hastighet $h$ meter per sekund. Kula veier $m$ kg.\n",
    "Kulas bevegelsesenergi (kinetisk energi, $E_k$) er da:\n",
    "$E_k = 0.5 m h^2$.\n",
    "\n",
    "Vi har en kule med ukjent masse og som triller med en ukjent hastighet. Ved å måle begge disse størrelsene ønsker vi å regne ut (estimere) kulas bevegelsesenergi. Vi skal nå studere feilforplantning i en målesituasjon der målefunksjonen har to inngangsvariabler. \n",
    "\n",
    "Vi har et måleinstrument for å måle hastigheten til kula og målingene\n",
    "er forbundet med usikkerhet. La den stokastiske variabelen $X_h$ betegne målingen av hastigheten $h$ med instrumentet. Vi antar at $E(X_h) = h$ m/s og at $SD(X_h) = 0.5$ m/s. Kulas masse $m$ måles med en vekt. Vi lar den stokastiske variabelen $X_m$ representere måling av masse, med $E(X_m) = m$ kg og $SD(X_m) = 0.01$ kg. Videre lar vi den stokastiske variabelen $X_E$ representere den indirekte målingen av kinetisk energi, der $X_E$ er utgangsvariabelen til målefunksjonen $f(X_m, X_h) = 0.5 X_m X_h^2$ som har målingene $X_m$ og $X_h$ som inngangsvariabler. \n",
    "\n",
    "Måleresultatet av hastighet blir $10.8 \\text{m/s} \\pm 0.5 \\text{m/s}$. Måleresultatet av masse blir $0.45\\text{kg} \\pm 0.01 \\text{kg}$. Vi regner ut estimert (målt) kinetisk energi ved å bruke målefunksjonen; \n",
    "$$x_E = 0.5 x_m x_h^2 = 0.5 \\cdot 0.45 \\cdot 10.8^2 = 26.2 J.$$\n",
    "\n",
    "For å finne et estimat på standard usikkerhet forbundet med målingen (estimatet) av kinetisk energi skal vi igjen bruke taylor-rekker og regneregler for varians av lineærkombinasjoner. Vi skal også anta at målingene av masse, $X_m$, og hastighet, $X_h$, kan anses som uavhengige stokastiske variabler. Variansen til en lineærkombinasjon av $X_m$ og $X_h$ vil da kunne uttrykkes ved hjelp av regneregelen \n",
    "\n",
    "$$Var(aX_m + b X_h) = a^2 Var(X_m) + b^2 Var(X_h).$$\n",
    "\n",
    "Målefunksjonen kan approksimeres med en første-ordens Taylor-utvikling rundt den sanne massen, $m$, og den sanne hastigheten $h$;\n",
    "\n",
    "$$ f(X_m, X_h) \\approx f(m,h) + \\frac{\\partial f(m,h)}{\\partial m}(X_m - m) + \\frac{\\partial f(m,h)}{\\partial h}(X_h - h) $$\n",
    "\n",
    "og dermed finner vi \n",
    "\n",
    "$$\n",
    "Var(X_E) \\approx Var(f(m,h)) + Var\\left(\\frac{\\partial f(m,h)}{\\partial m}(X_m - m)\\right) + Var\\left(\\frac{\\partial f(m,h)}{\\partial h}(X_h - h)\\right) \\\\ = \\left(\\frac{\\partial f(m,h)}{\\partial m}\\right)^2 Var(X_m) + \\left(\\frac{\\partial f(m,h)}{\\partial h}\\right)^2 Var(X_h).\n",
    "$$\n",
    "\n",
    "*Kombinert standard usikkerhet* for målingen av kinetisk energi blir\n",
    "\n",
    "$$\n",
    "SD(X_E) \\approx \\sqrt{ \\left(\\frac{\\partial f(m,h)}{\\partial m}\\right)^2 \\sigma_m^2 + \\left(\\frac{\\partial f(m,h)}{\\partial h}\\right)^2 \\sigma_h^2 } = \\sqrt{ (0.5 h^2)^2 \\sigma_m^2 +  (mh)^2 \\sigma_h^2}.\n",
    "$$\n",
    "\n",
    "Vi setter inn estimater (målinger) $x_m = 0.45$ kg og $x_h = 10.8$ m/s for $m$ og $h$ og regner ut \n",
    "\n",
    "$$\n",
    "SD(X_E) \\approx \\sqrt{0.58^2 + 2.34^2} = 2.5J.\n",
    "$$\n",
    "\n",
    "Måleresultatet vårt (med dekningsfaktor $k = 1$ blir da) \n",
    "\n",
    "$$x_E = 26.2 J  \\pm 2.5J.$$\n",
    "\n",
    "*Merk:* Fra utregningen av kombinert standard usikkerhet ser vi tydelig at det er målingen av hastighet (ledd nummer to) som i høyeste grad bidrar til usikkerhet i målingen av kinetisk energi. Dersom vi kan forbedre en av målingene våre, er det denne målingen vi burde bruke ressurser på (usikkerhetsbudsjett).\n",
    "\n",
    "### Når usikkerheten i inngangsvariablene er ukjent\n",
    "Dersom usikkerheten i inngangsvariablene er ukjent har vi to mulige fremgangsmåter. Vi kan gjøre flere målinger av hver inngangsvariabel, regne ut gjennomsnittet og tilhørende standard usikkerhet, og deretter standard usikkerhet i utgangsvariabelen ved hjelp av feilforplantning og kombinert standard usikkerhet. Dersom det er hensiktsmessig å gjøre en serie parvise målinger av to inngangsvariabler kan vi først regne ut tilhørende serie av realisasjoner av utgangsvariabelen og til slutt regne snitt og standard usikkerhet for denne (da uten bruk av feilforplantningsformelen). Hvilken metode som velges vil avhenge av situasjonen. \n"
   ]
  },
  {
   "cell_type": "markdown",
   "id": "c5240e43-136b-4d9b-9459-fde8a9f7c929",
   "metadata": {},
   "source": [
    "### Del 3: Stokastisk simulering\n",
    "\n",
    "Dersom vi spesifiserer en sannsynlighetsfordeling for hver av inngangsvariablene i en målefunksjon, er det mulig å studere egenskapene til utgangsvariabelen ved hjelp at stokastisk simulering (også kalt Monte Carlo-simulering). Vi får en datamaskin til å generere en rekke realisasjoner av inngangsvariablene (fra de spesifiserte sannsynlighetsfordelingene) og deretter 'observere' empirisk fordelingsfunksjon, gjennomsnitt og standardavvik til utgangsvariabelen. "
   ]
  },
  {
   "cell_type": "code",
   "execution_count": null,
   "id": "91180032-cc7f-49b6-9ec0-0fb47bb17bbc",
   "metadata": {
    "tags": []
   },
   "outputs": [],
   "source": [
    "import numpy as np\n",
    "import statistics\n",
    "import seaborn as sns\n",
    "import matplotlib.pyplot as plt\n",
    "\n",
    "nsim = 1000\n",
    "x_e = np.zeros(nsim)\n",
    "\n",
    "for i in range(nsim):\n",
    "    x_m = np.random.normal(0.45, 0.01)  # her har vi valgt å simulere med forventning lik målt verdi\n",
    "    x_h = np.random.normal(10.8, 0.5)\n",
    "    x_e[i] = 0.5 * x_m * (x_h ** 2)\n",
    "\n",
    "print(f\"Gjennomsnittlig kinetisk energi: {statistics.mean(x_e)}\") \n",
    "print(f\"Standard usikkerhet kinetisk energi: {statistics.stdev(x_e)}\") \n",
    "\n",
    "sns.histplot(x_e, bins=10)\n",
    "plt.xlabel('x_e'); plt.ylabel('Frequency'); plt.title('Histogram of x_e')\n",
    "plt.show()"
   ]
  },
  {
   "cell_type": "markdown",
   "id": "2dc86ae1-d9f9-4f9c-bf8e-ce4b853b5578",
   "metadata": {},
   "source": [
    "Kjør simuleringen over flere ganger, og gjerne med ulike forventningsverdier for x_m og x_h. Hva tenker du om estimert standard usikkerhet på 2.5 joule som vi fant vha linearisering? Stemmer det med simuleringen?\n",
    "\n",
    "NB: i simuleringen har vi antatt normalfordeling i målingene av masse og hastighet, det har vi ikke gjort i utregningene med lineærapproksimasjoner. "
   ]
  }
 ],
 "metadata": {
  "kernelspec": {
   "display_name": "Python 3 (ipykernel)",
   "language": "python",
   "name": "python3"
  },
  "language_info": {
   "codemirror_mode": {
    "name": "ipython",
    "version": 3
   },
   "file_extension": ".py",
   "mimetype": "text/x-python",
   "name": "python",
   "nbconvert_exporter": "python",
   "pygments_lexer": "ipython3",
   "version": "3.11.5"
  }
 },
 "nbformat": 4,
 "nbformat_minor": 5
}
