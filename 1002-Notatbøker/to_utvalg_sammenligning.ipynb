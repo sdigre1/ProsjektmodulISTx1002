{
 "cells": [
  {
   "cell_type": "markdown",
   "id": "03566385-bf0c-447b-9be2-70083b7023d9",
   "metadata": {},
   "source": [
    "# Kan vi se en forskjell?\n",
    "## Sammenligning av to grupper med boksplott og 2-utvalgs t-test"
   ]
  },
  {
   "cell_type": "markdown",
   "id": "9573ea22-2971-4a39-98ec-a8509d279101",
   "metadata": {},
   "source": [
    "### Læringsmål:\n",
    "\n",
    "I denne notatboken lærer du å sammenligne populasjonsgjennomsnitt (forventningsverdi) i to populasjoner basert på tilfeldige utvalg fra populasjonene. Sammenligningen gjennomføres (i Python) ved bruk av data-visualisering (boksplott) og to-utvalgs t-test. "
   ]
  },
  {
   "cell_type": "code",
   "execution_count": null,
   "id": "081502e6-7d70-4cd6-8d9c-0837f1900d95",
   "metadata": {
    "tags": []
   },
   "outputs": [],
   "source": [
    "import numpy as np\n",
    "from scipy import stats  # t-test\n",
    "import seaborn as sns\n",
    "import matplotlib.pyplot as plt\n",
    "import pandas as pd\n",
    "import statistics"
   ]
  },
  {
   "cell_type": "markdown",
   "id": "057cdad3-4f5f-482e-9c79-67aa7ea0ee78",
   "metadata": {},
   "source": [
    "## Repetisjon: T-test\n",
    "\n",
    "Vi starter med å repetere teorien bak t-tester, som vi gjennomgikk i uke 8 i fellesmodulen. La de uavhengige stokastiske variablene $X_1, X_2, \\ldots, X_n$ representere et tilfeldig utvalg fra en populasjon, og anta $X_i \\sim N(\\mu, \\sigma)$ for $i = 1, 2, \\ldots, n$. Vi ønsker å bruke observasjoner av et slikt utvalg til å (f.eks.) teste\n",
    "\n",
    "$$ H_0: \\mu \\leq \\mu_0 \\text{ mot } H_1: \\mu > \\mu_0, $$\n",
    "\n",
    "altså er vi interessert i å undersøke om forventningsverdien $\\mu$ er større enn et valgt tall $\\mu_0$. Som null-hypotese har vi $\\mu \\leq \\mu_0$, som vi også gjerne representerer med grensetilfellet $\\mu = \\mu_0$.\n",
    "\n",
    "Som testobservator kan vi bruke \n",
    "$$ T = \\frac{\\bar{X} - \\mu_0}{S/\\sqrt{n}}$$\n",
    "\n",
    "som under null-hypotesen er $t$-fordelt med parameterverdi (frihetsgrader) $\\nu = n-1$. I testobservatoren $T$ inngår $\\bar{X}$ som er en estimator for $\\mu$, samt estimatoren for standardavviket $\\sigma$, $S = \\sqrt{\\frac{1}{n-1} \\sum_{i=1}^n (X_i - \\bar{X})^2}$.\n",
    "\n",
    "Ved signifikansnivå $\\alpha$ forkaster vi null-hypotesen til fordel for (den høyresidige) alternativhypotesen dersom vi observerer $t_{obs} > t_{\\alpha, n-1}$ der $t_{obs}$ er den observerte verdien av testobservatoren ($\\bar{X}$ og $S$ erstattes med observasjoner $\\bar{x}$ og $s$) og $t_{\\alpha, n-1}$ er en kritisk verdi fra $t$-fordelingen. "
   ]
  },
  {
   "cell_type": "markdown",
   "id": "b3af311b-8f12-45ec-8436-d943f4d0fe55",
   "metadata": {},
   "source": [
    "### Eksempel med Python\n",
    "Vi ønsker å teste om $\\mu < 25$ ved hjelp av et tilfeldig utvalg med $n = 5$ og ved signifikansnivå $\\alpha = 0.01$. Vi skal dermed gjøre en venstresidig test og vil forkaste $H_0 : \\mu \\geq 25$ til fordel for $H_1 : \\mu < 25$ dersom vi observerer $t_{obs} < -t_{0.01, 4}$. Den kritiske verdien kan vi finne i en tabell ($-t_{0.01, 4} = -3.747$) eller med Python (se under). Ved bruk av stats-modulen i Scipy-pakken kan vi enkelt gjennomføre $t$-testen (\"1-sample t test\"):"
   ]
  },
  {
   "cell_type": "code",
   "execution_count": null,
   "id": "e9addebb-c148-4501-815e-216d0198cb0e",
   "metadata": {
    "tags": []
   },
   "outputs": [],
   "source": [
    "# finner kritisk verdi (i venstre hale)\n",
    "t_kritisk = stats.t.ppf(0.01,4)\n",
    "print(t_kritisk)"
   ]
  },
  {
   "cell_type": "code",
   "execution_count": null,
   "id": "15e775a0-c2be-4f9e-ac7d-63a282959881",
   "metadata": {
    "tags": []
   },
   "outputs": [],
   "source": [
    "# skriver ned observasjoner, mu0 og gjennomfører test\n",
    "observasjoner = [20, 21, 22, 23, 24]\n",
    "mu0 = 25\n",
    "stats.ttest_1samp(observasjoner, mu0, alternative = 'less')"
   ]
  },
  {
   "cell_type": "markdown",
   "id": "49336c9d-f215-47fc-8cea-491066c8c79e",
   "metadata": {},
   "source": [
    "Vi ser at testobservatoren vår tok verdi $t_{obs} = -4.243$ basert på observasjonene $x_1 = 20$, $x_2 = 21$, osv. Siden $t_{obs}$ er lavere enn kritisk verdi $-3.747$ vil vi forkaste nullhypotesen til fordel for alternativhypotesen. Det er grunn til å tro at $\\mu < 25$. Dette kan vi også komme frem til ved hjelp av $p$-verdien på 0.0066 som er lavere en det valgte signifikansnivået $\\alpha = 0.01$."
   ]
  },
  {
   "cell_type": "markdown",
   "id": "90f34b96-80ff-4f7e-831b-fa5156fa7e52",
   "metadata": {},
   "source": [
    "## To-utvalgs t-test\n",
    "\n",
    "I en to-utvalgs t-test ønsker vi å sammenligne to populasjonsgjennomsnitt $\\mu_1$ og $\\mu_2$ fra to (uavhengige) populasjoner. En to-utvalgs t-test er basert på et tilfeldig utvalg $X_1, X_2, \\ldots, X_{n_1}$ fra den første populasjonen, slik at $E(X) = \\mu_1$, og et annet tilfeldig utvalg $Y_1, Y_2, \\ldots, Y_{n_2}$ fra den andre populasjonen, slik at $E(Y) = \\mu_2$. Vi har tre mulige par av hypoteser vi kan undersøke: \n",
    "\n",
    "1. Forventningsverdien er størst i populasjon 1: $H_0: \\mu_1 \\leq \\mu_2$ mot $H_1: \\mu_1 > \\mu_2$\n",
    "2. Forventningsverdien er størst i populasjon 2: $H_0: \\mu_1 \\geq \\mu_2$ mot $H_1: \\mu_1 < \\mu_2$\n",
    "1. Forventningsverdiene er ulike i de to populasjonene: $H_0: \\mu_1 = \\mu_2$ mot $H_1: \\mu_1 \\neq \\mu_2$\n",
    "\n",
    "Det er som regel ikke naturlig å anta lik varians (og standardavvik) i de to tilfeldige utvalgene, og i gjennomføring av testen estimeres standardavvikene $\\sigma_1$ og $\\sigma_2$ basert på estimatorene \n",
    "\n",
    "$$ S_X = \\sqrt{\\frac{1}{n_1 - 1} \\sum_{i=1}^{n_1} (X_i - \\bar{X})^2} \\text{ og } S_Y = \\sqrt{\\frac{1}{n_2 - 1} \\sum_{j=1}^{n_2} (Y_j - \\bar{Y})^2}$$\n",
    "\n",
    "Testobservatoren i en to-utvalgs t-test med ukjente populasjonsvarianser som vi ikke vet er like er \n",
    "\n",
    "$$ T = \\frac{\\bar{X} - \\bar{Y}}{\\sqrt{S_X^2/n_1 + S_Y^2/n_2}}. $$\n",
    "\n",
    "Dersom null-hypotesen er sann er testobservatoren $t$-fordelt med parameterverdi (antall frihetsgrader, angitt med den greske bokstaven $\\nu$ (uttal \"ny\"))\n",
    "\n",
    "$$ \\nu = \\frac{\\left(S_X^2/n_1 + S_Y^2/n_2\\right)^2}{\\frac{\\left( S_X^2/n_1\\right)^2}{n_1-1}+\\frac{\\left( S_Y^2/n_2\\right)^2}{n_2-1}}$$\n",
    "\n",
    "og testen forkastes basert på samme type forkastningsregler som ett-utvalgs $t$-tester (fra fellesmodul).\n",
    "\n",
    "*Merk:* I ISTx1002 forventer vi ikke at du pugger en to-utvalgs t-test, og spesielt ikke det kronglete uttrykket for $\\nu$. Men vi ønsker at du skal vite hva testen innebærer, og bruke den for å sammeligne to (uavhengige) serier med målinger som dere skal gjennomføre i prosjektoppgaven."
   ]
  },
  {
   "cell_type": "markdown",
   "id": "c7e54946-caf3-4ff0-82c6-d5734c7466f1",
   "metadata": {},
   "source": [
    "### Eksempel 1: Medisin vs placebo?\n",
    "*Eksempelet er inspirert av Løvås, kap 8.2 og 8.3.*\n",
    "\n",
    "En lege ønsker å undersøke om en ny blodtrykksmedisin er bedre enn placebo i en populasjon av pasienter med omtrent samme alder, kjønn osv. Legen definerer $\\mu_M$ som forventet reduksjon i blodtrykk for en tilfeldig valgt pasient fra denne populasjonen ved en måneds bruk av medisinen. Legen definerer $\\mu_P$ som forventet reduksjon i blodtrykk for en tilfeldig valgt pasient fra denne populasjonen ved en måneds bruk av placebo-piller. Legens hypotese kan dermed uttrykkes ved\n",
    "\n",
    "$$ H_0: \\mu_M = \\mu_P \\text{ mot } H_1: \\mu_M > \\mu_P $$\n",
    "\n",
    "Vi må anta at det er substansielle variasjoner mellom enkeltpersoners respons på medisin, og generelt variasjon mellom målinger som gjøres etter hverandre. Da er det naturlig å modellere *reduksjon* i blodtrykk hos en tilfeldig valgt pasient satt på blodtrykksmedisin med en stokastisk variabel $X$ der $E(X) = \\mu_M$ og standardavvik $SD(X) = \\sigma_M$. For pasienter som kun bruker placebo-piller vil vi også forvente variasjon mellom to målinger på grunn av måleusikkerhet og andre endringer hos pasientene over tid. For placebo-pasientene kan vi modellere *reduksjon* i blodtrykk hos en tilfeldig valgt pasient med en stokastisk variabel $Y$ der $E(Y) = \\mu_P$ og standardavvik $SD(Y) = \\sigma_P$. \n",
    "\n",
    "(Merk at dersom det ikke finnes en placebo-effekt er det naturlig å tro at $\\mu_P = 0$ men det skal vi ikke ta stilling til her).\n",
    "\n",
    "De innsamlede dataene til legen, og en 2-utvalgs $t$-test med python er presentert under. Hva blir konklusjonen av legens forsøk? Vi gjennomfører testen ved signifikansnivå $\\alpha = 0.05$."
   ]
  },
  {
   "cell_type": "code",
   "execution_count": null,
   "id": "43e64a46-a6da-4b0a-86bc-46ab422b77e5",
   "metadata": {
    "tags": []
   },
   "outputs": [],
   "source": [
    "x = [8, 5, 6, -3, 10, 5, -1, 2, 9, 7] # observert endring med medisin (positivt tall = reduksjon) \n",
    "y = [2, 3, -2, 0, 1, 1, -1, 3, 0] # observert endring med placebo (positivt tall = reduksjon)\n",
    "\n",
    "n1 = len(x)\n",
    "n2 = len(y)\n",
    "\n",
    "mean_x = statistics.mean(x)\n",
    "mean_y = statistics.mean(y)\n",
    "\n",
    "sd_x = statistics.stdev(x)\n",
    "sd_y = statistics.stdev(y)\n",
    "\n",
    "# antall frihetsgrader:\n",
    "ny = (sd_x**2/n1+sd_y**2/n2)**2/((sd_x**2/n1)**2/(n1-1)+(sd_y**2/n2)**2/(n2-1))\n",
    "print(\"Antall frihetsgrader (ny) = \", ny)\n",
    "\n",
    "t_kritisk = stats.t.ppf(1-0.05,ny)\n",
    "print(\"t_kritisk = \", t_kritisk)\n",
    "\n",
    "stats.ttest_ind_from_stats(mean_x, sd_x, n1, mean_y, sd_y, n2, equal_var=False, alternative = 'greater')"
   ]
  },
  {
   "cell_type": "markdown",
   "id": "2a7f2c1f-3f1a-4e10-a7f1-cb88b8d044ef",
   "metadata": {},
   "source": [
    "Konklusjonen av (den høyresidige) $t$-testen kan vi finne direkte ved å se på $p$-verdien, som her er $0.0088$. Siden $p$-verdien er mindre enn signifikansnivået $\\alpha = 0.05$ forkaster vi nullhypotesen; vi har grunnlag i dataene til å konkludere at medisin har bedre effekt enn placebo. Vi kan også sammenligne testobservatoren $t_{obs} = 2.746$ med kritisk verdi $t_{0.05, 12.09} = 1.781$. Siden $t_{obs} > t_{0.05, 12.09}$ forkaster vi $H_0$ til fordel for $H_1$.\n",
    "\n",
    "*Merk:* Det er lite hensiktsmessig å kun gjennomføre testen og få et ja/nei svar. Vi burde også se nøyere på dataene vi har samlet inn:"
   ]
  },
  {
   "cell_type": "code",
   "execution_count": null,
   "id": "f57a5e1a-f0c2-4442-8bd9-04ec968c5b4a",
   "metadata": {
    "tags": []
   },
   "outputs": [],
   "source": [
    "mean_x = sum(x)/len(x)\n",
    "mean_y = sum(y)/len(y)\n",
    "\n",
    "print(f\"Gjennomsnitt blodtrykksreduksjon med medisin: {round(mean_x,2)}\")\n",
    "print(f\"Gjennomsnitt blodtrykksreduksjon med placebo: {round(mean_y,2)}\")\n",
    "\n",
    "data = pd.DataFrame({\n",
    "    'Blodtrykksreduksjon': x + y,\n",
    "    'Gruppe': ['Medisin'] * len(x) + ['Placebo'] * len(y)\n",
    "})\n",
    "plt.figure(figsize=(8, 6))\n",
    "sns.boxplot(x='Gruppe', y='Blodtrykksreduksjon', data=data)\n",
    "plt.title('Boksplott for to grupper av pasienter')\n",
    "plt.show()"
   ]
  },
  {
   "cell_type": "markdown",
   "id": "5263efe7-b695-4c4e-b960-b2fd240b3b76",
   "metadata": {},
   "source": [
    "*Diskuter:* Trengte vi å gjennomføre en hypotesetest her? Vi ser tydelig fra boksplottene at reduksjon i blodtrykk (positivt tall) er mye høyere hos pasienter på medisin enn hos pasienter på placebo. Vi ser også større variasjon av gruppen pasienter på medisin, som kan tilsi at ikke alle responderer like godt på medisinen. Dermed lærer vi mer om gruppene våre ved å visualisere dataene enn ved å gjennomføre en hypotesetest, men testen kan brukes som et godt supplement i konklusjonen vår om at medisin (i snitt) fremstår bedre enn placebo. "
   ]
  },
  {
   "cell_type": "markdown",
   "id": "acb3586f-e68d-49cb-864a-5294167fdc53",
   "metadata": {},
   "source": [
    "### Eksempel 2: Høydehus\n",
    "*Eksempelet er hentet fra kurset HBIOT2025 vår 2022*\n",
    "\n",
    "Vi ønsker å sjekke om det er forskjell i hemoglobinkonsentrasjonen hos tilsynelatende like idrettsutøvere der noen har vært i høydehus og andre har ikke. Målinger av hemoglobin (i g/100 ml) gjennomføres i to grupper av idrettsutøvere. Data-analyse med Python er vist under:"
   ]
  },
  {
   "cell_type": "code",
   "execution_count": null,
   "id": "3bfdf806-0504-481e-96d9-5044e0c38c39",
   "metadata": {
    "tags": []
   },
   "outputs": [],
   "source": [
    "x = [16.3, 15.4, 14.2, 13.7, 14.8, 12.9] # utøvere som har vært i høydehus\n",
    "y = [15.0, 14.3, 14.8, 13.2, 12.2, 13.1, 12.8] # ikke høydehus\n",
    "\n",
    "n1 = len(x)\n",
    "n2 = len(y)\n",
    "\n",
    "mean_x = statistics.mean(x)\n",
    "mean_y = statistics.mean(y)\n",
    "\n",
    "sd_x = statistics.stdev(x)\n",
    "sd_y = statistics.stdev(y)\n",
    "\n",
    "print(f\"Gjennomsnittlig hemoglobin høydehus: {round(mean_x,2)}\")\n",
    "print(f\"Gjennomsnittlig hemoglobin ikke høydehus: {round(mean_y,2)}\")\n",
    "\n",
    "print(f\"Standardavvik hemoglobin høydehus: {round(sd_x,2)}\")\n",
    "print(f\"Standardavvik hemoglobin ikke høydehus: {round(sd_y,2)}\")\n",
    "\n",
    "dataHH = pd.DataFrame({\n",
    "    'Hemoglobin': x + y,\n",
    "    'Gruppe': ['Høydehus'] * len(x) + ['Ikke høydehus'] * len(y)\n",
    "})\n",
    "plt.figure(figsize=(8, 6))\n",
    "sns.boxplot(x='Gruppe', y='Hemoglobin', hue='Gruppe', data=dataHH,palette=[\"y\", \"g\"],legend = False)\n",
    "plt.title('Boksplott for to grupper av idrettsutøvere')\n",
    "plt.show()"
   ]
  },
  {
   "cell_type": "markdown",
   "id": "1fcc96d0-275c-4fed-8ce6-2dc629945fc7",
   "metadata": {},
   "source": [
    "Vi obsererverer at gjennomsnittet av hemoglobin er noe lavere blant utøvere som ikke har vært i høydehus enn hos de som er det, differansen er omtrent 0.92. Det samme gjelder medianen (midterste stripe i boksplottet). Vi ser også at boksplottet for utøvere som har vært i høydehus ligger høyere enn boksplottet for utøvere som ikke har vært i høydehus. Men fordi variasjonen innad i gruppene er relativt stor (f.eks er empriske standardavvik 1.22 og 1.07) sammenlignet med differansen i gjennomsnitt er det vanskelig å fastslå med sikkerhet at det *på populasjonsnivå* er en reell gjennomsnittsforskjell. Dette reflekteres i den store graden av overlapp mellom boksplottene. Vi gjennomfører derfor en to-utvalgs t-test ved signifikansnivå $\\alpha = 0.05$:"
   ]
  },
  {
   "cell_type": "code",
   "execution_count": null,
   "id": "90a14f84-f7f9-48b9-b1e7-f61868f6c58e",
   "metadata": {
    "tags": []
   },
   "outputs": [],
   "source": [
    "ny = (sd_x**2/n1+sd_y**2/n2)**2/((sd_x**2/n1)**2/(n1-1)+(sd_y**2/n2)**2/(n2-1))\n",
    "print(\"Antall frihetsgrader (ny) = \", ny)\n",
    "\n",
    "t_kritisk = stats.t.ppf(1-0.05,ny)\n",
    "print(\"t_kritisk = \", t_kritisk)\n",
    "\n",
    "stats.ttest_ind_from_stats(mean_x, sd_x, n1, mean_y, sd_y, n2, equal_var=False, alternative = 'greater')"
   ]
  },
  {
   "cell_type": "markdown",
   "id": "c58dd0b3-16a9-4006-94f5-4b595d4b732a",
   "metadata": {},
   "source": [
    "*Konklusjon*: Ifølge testen har vi ikke grunnlag for å konkludere at gjennomsnittlig hemoglobin-nivå vil være høyere i en populasjon av idrettsutøvere som bruker høydehus enn i en populasjon av idrettsutøvere som ikke bruker høydehus.\n",
    "\n",
    "*Merk*: For å øke sjansen for å avdekke en eventuell effekt av høydehus kan vi foreslå å studerere et større utvalg av idrettsutøvere i håp om å redusere støy/variasjon i gjennomsnittsmålingene. "
   ]
  },
  {
   "cell_type": "code",
   "execution_count": null,
   "id": "7b97b634-53d6-4ef8-b4c4-2b37d93937b3",
   "metadata": {},
   "outputs": [],
   "source": []
  }
 ],
 "metadata": {
  "kernelspec": {
   "display_name": "Python 3 (ipykernel)",
   "language": "python",
   "name": "python3"
  },
  "language_info": {
   "codemirror_mode": {
    "name": "ipython",
    "version": 3
   },
   "file_extension": ".py",
   "mimetype": "text/x-python",
   "name": "python",
   "nbconvert_exporter": "python",
   "pygments_lexer": "ipython3",
   "version": "3.11.5"
  }
 },
 "nbformat": 4,
 "nbformat_minor": 5
}
