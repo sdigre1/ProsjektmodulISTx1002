{
 "cells": [
  {
   "cell_type": "code",
   "execution_count": 2,
   "metadata": {},
   "outputs": [],
   "source": [
    "import numpy as np\n",
    "import matplotlib.pyplot as plt\n",
    "\n",
    "l1 = 1\n",
    "l2 = 1\n",
    "theta1 = np.pi/4\n",
    "theta2 = np.pi/4\n",
    "\n",
    "x_delta_theta1 = -l1 * np.sin(theta1) - l2 * np.sin(theta1 + theta2)\n",
    "x_delta_theta2 = -l2 * np.sin(theta1 + theta2)\n",
    "\n",
    "\n",
    "\n",
    "\n",
    "\n"
   ]
  }
 ],
 "metadata": {
  "kernelspec": {
   "display_name": "Python 3",
   "language": "python",
   "name": "python3"
  },
  "language_info": {
   "codemirror_mode": {
    "name": "ipython",
    "version": 3
   },
   "file_extension": ".py",
   "mimetype": "text/x-python",
   "name": "python",
   "nbconvert_exporter": "python",
   "pygments_lexer": "ipython3",
   "version": "3.11.9"
  }
 },
 "nbformat": 4,
 "nbformat_minor": 2
}
